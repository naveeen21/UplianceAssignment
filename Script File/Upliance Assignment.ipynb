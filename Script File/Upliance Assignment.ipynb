{
 "cells": [
  {
   "cell_type": "markdown",
   "id": "6d82886e-5012-4303-a1c6-f8cbeb4f33ae",
   "metadata": {},
   "source": [
    "<h1>Exploratory Data Analysis</h1>"
   ]
  },
  {
   "cell_type": "code",
   "execution_count": 1,
   "id": "56c99c9e-3815-4519-9141-496c9127c622",
   "metadata": {},
   "outputs": [],
   "source": [
    "import pandas as pd"
   ]
  },
  {
   "cell_type": "markdown",
   "id": "fe825bb0-4305-4df4-a0cd-b2937fca175c",
   "metadata": {},
   "source": [
    "<b>Data Loading for Analysis<b>"
   ]
  },
  {
   "cell_type": "code",
   "execution_count": 2,
   "id": "3a68f899-9211-420e-abd4-7e31fca79600",
   "metadata": {},
   "outputs": [
    {
     "data": {
      "text/html": [
       "<div>\n",
       "<style scoped>\n",
       "    .dataframe tbody tr th:only-of-type {\n",
       "        vertical-align: middle;\n",
       "    }\n",
       "\n",
       "    .dataframe tbody tr th {\n",
       "        vertical-align: top;\n",
       "    }\n",
       "\n",
       "    .dataframe thead th {\n",
       "        text-align: right;\n",
       "    }\n",
       "</style>\n",
       "<table border=\"1\" class=\"dataframe\">\n",
       "  <thead>\n",
       "    <tr style=\"text-align: right;\">\n",
       "      <th></th>\n",
       "      <th>User ID</th>\n",
       "      <th>User Name</th>\n",
       "      <th>Age</th>\n",
       "      <th>Location</th>\n",
       "      <th>Registration Date</th>\n",
       "      <th>Phone</th>\n",
       "      <th>Email</th>\n",
       "      <th>Favorite Meal</th>\n",
       "      <th>Total Orders</th>\n",
       "    </tr>\n",
       "  </thead>\n",
       "  <tbody>\n",
       "    <tr>\n",
       "      <th>0</th>\n",
       "      <td>U001</td>\n",
       "      <td>Alice Johnson</td>\n",
       "      <td>28</td>\n",
       "      <td>New York</td>\n",
       "      <td>15-01-2023</td>\n",
       "      <td>123-456-7890</td>\n",
       "      <td>alice@email.com</td>\n",
       "      <td>Dinner</td>\n",
       "      <td>12</td>\n",
       "    </tr>\n",
       "    <tr>\n",
       "      <th>1</th>\n",
       "      <td>U002</td>\n",
       "      <td>Bob Smith</td>\n",
       "      <td>35</td>\n",
       "      <td>Los Angeles</td>\n",
       "      <td>20-02-2023</td>\n",
       "      <td>987-654-3210</td>\n",
       "      <td>bob@email.com</td>\n",
       "      <td>Lunch</td>\n",
       "      <td>8</td>\n",
       "    </tr>\n",
       "    <tr>\n",
       "      <th>2</th>\n",
       "      <td>U003</td>\n",
       "      <td>Charlie Lee</td>\n",
       "      <td>42</td>\n",
       "      <td>Chicago</td>\n",
       "      <td>10-03-2023</td>\n",
       "      <td>555-123-4567</td>\n",
       "      <td>charlie@email.com</td>\n",
       "      <td>Breakfast</td>\n",
       "      <td>15</td>\n",
       "    </tr>\n",
       "    <tr>\n",
       "      <th>3</th>\n",
       "      <td>U004</td>\n",
       "      <td>David Brown</td>\n",
       "      <td>27</td>\n",
       "      <td>San Francisco</td>\n",
       "      <td>05-04-2023</td>\n",
       "      <td>444-333-2222</td>\n",
       "      <td>david@email.com</td>\n",
       "      <td>Dinner</td>\n",
       "      <td>10</td>\n",
       "    </tr>\n",
       "    <tr>\n",
       "      <th>4</th>\n",
       "      <td>U005</td>\n",
       "      <td>Emma White</td>\n",
       "      <td>30</td>\n",
       "      <td>Seattle</td>\n",
       "      <td>22-05-2023</td>\n",
       "      <td>777-888-9999</td>\n",
       "      <td>emma@email.com</td>\n",
       "      <td>Lunch</td>\n",
       "      <td>9</td>\n",
       "    </tr>\n",
       "  </tbody>\n",
       "</table>\n",
       "</div>"
      ],
      "text/plain": [
       "  User ID      User Name  Age       Location Registration Date         Phone  \\\n",
       "0    U001  Alice Johnson   28       New York        15-01-2023  123-456-7890   \n",
       "1    U002      Bob Smith   35    Los Angeles        20-02-2023  987-654-3210   \n",
       "2    U003    Charlie Lee   42        Chicago        10-03-2023  555-123-4567   \n",
       "3    U004    David Brown   27  San Francisco        05-04-2023  444-333-2222   \n",
       "4    U005     Emma White   30        Seattle        22-05-2023  777-888-9999   \n",
       "\n",
       "               Email Favorite Meal  Total Orders  \n",
       "0    alice@email.com        Dinner            12  \n",
       "1      bob@email.com         Lunch             8  \n",
       "2  charlie@email.com     Breakfast            15  \n",
       "3    david@email.com        Dinner            10  \n",
       "4     emma@email.com         Lunch             9  "
      ]
     },
     "execution_count": 2,
     "metadata": {},
     "output_type": "execute_result"
    }
   ],
   "source": [
    "User_details = pd.read_csv(\"F:\\\\Upliance Assignment\\\\UserDetails.csv\")\n",
    "User_details.head()"
   ]
  },
  {
   "cell_type": "code",
   "execution_count": 3,
   "id": "56948f39-0ae2-4ea9-8ab6-ab46d048d7f6",
   "metadata": {},
   "outputs": [
    {
     "data": {
      "text/html": [
       "<div>\n",
       "<style scoped>\n",
       "    .dataframe tbody tr th:only-of-type {\n",
       "        vertical-align: middle;\n",
       "    }\n",
       "\n",
       "    .dataframe tbody tr th {\n",
       "        vertical-align: top;\n",
       "    }\n",
       "\n",
       "    .dataframe thead th {\n",
       "        text-align: right;\n",
       "    }\n",
       "</style>\n",
       "<table border=\"1\" class=\"dataframe\">\n",
       "  <thead>\n",
       "    <tr style=\"text-align: right;\">\n",
       "      <th></th>\n",
       "      <th>Session ID</th>\n",
       "      <th>User ID</th>\n",
       "      <th>Dish Name</th>\n",
       "      <th>Meal Type</th>\n",
       "      <th>Session Start</th>\n",
       "      <th>Session End</th>\n",
       "      <th>Duration (mins)</th>\n",
       "      <th>Session Rating</th>\n",
       "    </tr>\n",
       "  </thead>\n",
       "  <tbody>\n",
       "    <tr>\n",
       "      <th>0</th>\n",
       "      <td>S001</td>\n",
       "      <td>U001</td>\n",
       "      <td>Spaghetti</td>\n",
       "      <td>Dinner</td>\n",
       "      <td>2024-12-01 19:00</td>\n",
       "      <td>2024-12-01 19:30</td>\n",
       "      <td>30</td>\n",
       "      <td>4.5</td>\n",
       "    </tr>\n",
       "    <tr>\n",
       "      <th>1</th>\n",
       "      <td>S002</td>\n",
       "      <td>U002</td>\n",
       "      <td>Caesar Salad</td>\n",
       "      <td>Lunch</td>\n",
       "      <td>2024-12-01 12:00</td>\n",
       "      <td>2024-12-01 12:20</td>\n",
       "      <td>20</td>\n",
       "      <td>4.0</td>\n",
       "    </tr>\n",
       "    <tr>\n",
       "      <th>2</th>\n",
       "      <td>S003</td>\n",
       "      <td>U003</td>\n",
       "      <td>Grilled Chicken</td>\n",
       "      <td>Dinner</td>\n",
       "      <td>2024-12-02 19:30</td>\n",
       "      <td>2024-12-02 20:10</td>\n",
       "      <td>40</td>\n",
       "      <td>4.8</td>\n",
       "    </tr>\n",
       "    <tr>\n",
       "      <th>3</th>\n",
       "      <td>S004</td>\n",
       "      <td>U001</td>\n",
       "      <td>Pancakes</td>\n",
       "      <td>Breakfast</td>\n",
       "      <td>2024-12-02 07:30</td>\n",
       "      <td>2024-12-02 08:00</td>\n",
       "      <td>30</td>\n",
       "      <td>4.2</td>\n",
       "    </tr>\n",
       "    <tr>\n",
       "      <th>4</th>\n",
       "      <td>S005</td>\n",
       "      <td>U004</td>\n",
       "      <td>Caesar Salad</td>\n",
       "      <td>Lunch</td>\n",
       "      <td>2024-12-03 13:00</td>\n",
       "      <td>2024-12-03 13:15</td>\n",
       "      <td>15</td>\n",
       "      <td>4.7</td>\n",
       "    </tr>\n",
       "  </tbody>\n",
       "</table>\n",
       "</div>"
      ],
      "text/plain": [
       "  Session ID User ID        Dish Name  Meal Type     Session Start  \\\n",
       "0       S001    U001        Spaghetti     Dinner  2024-12-01 19:00   \n",
       "1       S002    U002     Caesar Salad      Lunch  2024-12-01 12:00   \n",
       "2       S003    U003  Grilled Chicken     Dinner  2024-12-02 19:30   \n",
       "3       S004    U001         Pancakes  Breakfast  2024-12-02 07:30   \n",
       "4       S005    U004     Caesar Salad      Lunch  2024-12-03 13:00   \n",
       "\n",
       "        Session End  Duration (mins)  Session Rating  \n",
       "0  2024-12-01 19:30               30             4.5  \n",
       "1  2024-12-01 12:20               20             4.0  \n",
       "2  2024-12-02 20:10               40             4.8  \n",
       "3  2024-12-02 08:00               30             4.2  \n",
       "4  2024-12-03 13:15               15             4.7  "
      ]
     },
     "execution_count": 3,
     "metadata": {},
     "output_type": "execute_result"
    }
   ],
   "source": [
    "Cooking_sessions = pd.read_csv(\"F:\\\\Upliance Assignment\\\\CookingSessions.csv\")\n",
    "Cooking_sessions.head()"
   ]
  },
  {
   "cell_type": "code",
   "execution_count": 4,
   "id": "7bb2a80e-51d4-4b9c-8e99-dbd36be631f8",
   "metadata": {},
   "outputs": [
    {
     "data": {
      "text/html": [
       "<div>\n",
       "<style scoped>\n",
       "    .dataframe tbody tr th:only-of-type {\n",
       "        vertical-align: middle;\n",
       "    }\n",
       "\n",
       "    .dataframe tbody tr th {\n",
       "        vertical-align: top;\n",
       "    }\n",
       "\n",
       "    .dataframe thead th {\n",
       "        text-align: right;\n",
       "    }\n",
       "</style>\n",
       "<table border=\"1\" class=\"dataframe\">\n",
       "  <thead>\n",
       "    <tr style=\"text-align: right;\">\n",
       "      <th></th>\n",
       "      <th>Order ID</th>\n",
       "      <th>User ID</th>\n",
       "      <th>Order Date</th>\n",
       "      <th>Meal Type</th>\n",
       "      <th>Dish Name</th>\n",
       "      <th>Order Status</th>\n",
       "      <th>Amount (USD)</th>\n",
       "      <th>Time of Day</th>\n",
       "      <th>Rating</th>\n",
       "      <th>Session ID</th>\n",
       "    </tr>\n",
       "  </thead>\n",
       "  <tbody>\n",
       "    <tr>\n",
       "      <th>0</th>\n",
       "      <td>1001</td>\n",
       "      <td>U001</td>\n",
       "      <td>2024-12-01</td>\n",
       "      <td>Dinner</td>\n",
       "      <td>Spaghetti</td>\n",
       "      <td>Completed</td>\n",
       "      <td>15.0</td>\n",
       "      <td>Night</td>\n",
       "      <td>5.0</td>\n",
       "      <td>S001</td>\n",
       "    </tr>\n",
       "    <tr>\n",
       "      <th>1</th>\n",
       "      <td>1002</td>\n",
       "      <td>U002</td>\n",
       "      <td>2024-12-01</td>\n",
       "      <td>Lunch</td>\n",
       "      <td>Caesar Salad</td>\n",
       "      <td>Completed</td>\n",
       "      <td>10.0</td>\n",
       "      <td>Day</td>\n",
       "      <td>4.0</td>\n",
       "      <td>S002</td>\n",
       "    </tr>\n",
       "    <tr>\n",
       "      <th>2</th>\n",
       "      <td>1003</td>\n",
       "      <td>U003</td>\n",
       "      <td>2024-12-02</td>\n",
       "      <td>Dinner</td>\n",
       "      <td>Grilled Chicken</td>\n",
       "      <td>Canceled</td>\n",
       "      <td>12.5</td>\n",
       "      <td>Night</td>\n",
       "      <td>NaN</td>\n",
       "      <td>S003</td>\n",
       "    </tr>\n",
       "    <tr>\n",
       "      <th>3</th>\n",
       "      <td>1004</td>\n",
       "      <td>U001</td>\n",
       "      <td>2024-12-02</td>\n",
       "      <td>Breakfast</td>\n",
       "      <td>Pancakes</td>\n",
       "      <td>Completed</td>\n",
       "      <td>8.0</td>\n",
       "      <td>Morning</td>\n",
       "      <td>4.0</td>\n",
       "      <td>S004</td>\n",
       "    </tr>\n",
       "    <tr>\n",
       "      <th>4</th>\n",
       "      <td>1005</td>\n",
       "      <td>U004</td>\n",
       "      <td>2024-12-03</td>\n",
       "      <td>Lunch</td>\n",
       "      <td>Caesar Salad</td>\n",
       "      <td>Completed</td>\n",
       "      <td>9.0</td>\n",
       "      <td>Day</td>\n",
       "      <td>4.0</td>\n",
       "      <td>S005</td>\n",
       "    </tr>\n",
       "  </tbody>\n",
       "</table>\n",
       "</div>"
      ],
      "text/plain": [
       "   Order ID User ID  Order Date  Meal Type        Dish Name Order Status  \\\n",
       "0      1001    U001  2024-12-01     Dinner        Spaghetti    Completed   \n",
       "1      1002    U002  2024-12-01      Lunch     Caesar Salad    Completed   \n",
       "2      1003    U003  2024-12-02     Dinner  Grilled Chicken     Canceled   \n",
       "3      1004    U001  2024-12-02  Breakfast         Pancakes    Completed   \n",
       "4      1005    U004  2024-12-03      Lunch     Caesar Salad    Completed   \n",
       "\n",
       "   Amount (USD) Time of Day  Rating Session ID  \n",
       "0          15.0       Night     5.0       S001  \n",
       "1          10.0         Day     4.0       S002  \n",
       "2          12.5       Night     NaN       S003  \n",
       "3           8.0     Morning     4.0       S004  \n",
       "4           9.0         Day     4.0       S005  "
      ]
     },
     "execution_count": 4,
     "metadata": {},
     "output_type": "execute_result"
    }
   ],
   "source": [
    "Order_details = pd.read_csv(\"F:\\\\Upliance Assignment\\\\OrderDetails.csv\")\n",
    "Order_details.head()"
   ]
  },
  {
   "cell_type": "markdown",
   "id": "741e3bf4-793a-45c7-a127-5abe07573bce",
   "metadata": {},
   "source": [
    "<b>Data Cleaning</b>"
   ]
  },
  {
   "cell_type": "code",
   "execution_count": 5,
   "id": "244ecf89-dfa3-4a64-9046-51c6e28dfe3d",
   "metadata": {},
   "outputs": [
    {
     "data": {
      "text/plain": [
       "Index(['User ID', 'User Name', 'Age', 'Location', 'Registration Date', 'Phone',\n",
       "       'Email', 'Favorite Meal', 'Total Orders'],\n",
       "      dtype='object')"
      ]
     },
     "execution_count": 5,
     "metadata": {},
     "output_type": "execute_result"
    }
   ],
   "source": [
    "User_details.columns"
   ]
  },
  {
   "cell_type": "code",
   "execution_count": 6,
   "id": "cbe55664-37e2-4798-a9e5-fc78ffb058e6",
   "metadata": {},
   "outputs": [
    {
     "data": {
      "text/html": [
       "<div>\n",
       "<style scoped>\n",
       "    .dataframe tbody tr th:only-of-type {\n",
       "        vertical-align: middle;\n",
       "    }\n",
       "\n",
       "    .dataframe tbody tr th {\n",
       "        vertical-align: top;\n",
       "    }\n",
       "\n",
       "    .dataframe thead th {\n",
       "        text-align: right;\n",
       "    }\n",
       "</style>\n",
       "<table border=\"1\" class=\"dataframe\">\n",
       "  <thead>\n",
       "    <tr style=\"text-align: right;\">\n",
       "      <th></th>\n",
       "      <th>User ID</th>\n",
       "      <th>User Name</th>\n",
       "      <th>Age</th>\n",
       "      <th>Location</th>\n",
       "      <th>Registration Date</th>\n",
       "      <th>Phone</th>\n",
       "      <th>Email</th>\n",
       "      <th>Favorite Meal</th>\n",
       "      <th>Total Orders</th>\n",
       "    </tr>\n",
       "  </thead>\n",
       "  <tbody>\n",
       "    <tr>\n",
       "      <th>0</th>\n",
       "      <td>U001</td>\n",
       "      <td>Alice Johnson</td>\n",
       "      <td>28</td>\n",
       "      <td>New York</td>\n",
       "      <td>15-01-2023</td>\n",
       "      <td>123-456-7890</td>\n",
       "      <td>alice@email.com</td>\n",
       "      <td>Dinner</td>\n",
       "      <td>12</td>\n",
       "    </tr>\n",
       "    <tr>\n",
       "      <th>1</th>\n",
       "      <td>U002</td>\n",
       "      <td>Bob Smith</td>\n",
       "      <td>35</td>\n",
       "      <td>Los Angeles</td>\n",
       "      <td>20-02-2023</td>\n",
       "      <td>987-654-3210</td>\n",
       "      <td>bob@email.com</td>\n",
       "      <td>Lunch</td>\n",
       "      <td>8</td>\n",
       "    </tr>\n",
       "    <tr>\n",
       "      <th>2</th>\n",
       "      <td>U003</td>\n",
       "      <td>Charlie Lee</td>\n",
       "      <td>42</td>\n",
       "      <td>Chicago</td>\n",
       "      <td>10-03-2023</td>\n",
       "      <td>555-123-4567</td>\n",
       "      <td>charlie@email.com</td>\n",
       "      <td>Breakfast</td>\n",
       "      <td>15</td>\n",
       "    </tr>\n",
       "    <tr>\n",
       "      <th>3</th>\n",
       "      <td>U004</td>\n",
       "      <td>David Brown</td>\n",
       "      <td>27</td>\n",
       "      <td>San Francisco</td>\n",
       "      <td>05-04-2023</td>\n",
       "      <td>444-333-2222</td>\n",
       "      <td>david@email.com</td>\n",
       "      <td>Dinner</td>\n",
       "      <td>10</td>\n",
       "    </tr>\n",
       "    <tr>\n",
       "      <th>4</th>\n",
       "      <td>U005</td>\n",
       "      <td>Emma White</td>\n",
       "      <td>30</td>\n",
       "      <td>Seattle</td>\n",
       "      <td>22-05-2023</td>\n",
       "      <td>777-888-9999</td>\n",
       "      <td>emma@email.com</td>\n",
       "      <td>Lunch</td>\n",
       "      <td>9</td>\n",
       "    </tr>\n",
       "  </tbody>\n",
       "</table>\n",
       "</div>"
      ],
      "text/plain": [
       "  User ID      User Name  Age       Location Registration Date         Phone  \\\n",
       "0    U001  Alice Johnson   28       New York        15-01-2023  123-456-7890   \n",
       "1    U002      Bob Smith   35    Los Angeles        20-02-2023  987-654-3210   \n",
       "2    U003    Charlie Lee   42        Chicago        10-03-2023  555-123-4567   \n",
       "3    U004    David Brown   27  San Francisco        05-04-2023  444-333-2222   \n",
       "4    U005     Emma White   30        Seattle        22-05-2023  777-888-9999   \n",
       "\n",
       "               Email Favorite Meal  Total Orders  \n",
       "0    alice@email.com        Dinner            12  \n",
       "1      bob@email.com         Lunch             8  \n",
       "2  charlie@email.com     Breakfast            15  \n",
       "3    david@email.com        Dinner            10  \n",
       "4     emma@email.com         Lunch             9  "
      ]
     },
     "execution_count": 6,
     "metadata": {},
     "output_type": "execute_result"
    }
   ],
   "source": [
    "User_details.drop_duplicates().head()"
   ]
  },
  {
   "cell_type": "markdown",
   "id": "0a0c0ff9-26f6-4f03-8490-de96ca672cc7",
   "metadata": {},
   "source": [
    "<b>Check for missing Values<b>"
   ]
  },
  {
   "cell_type": "code",
   "execution_count": 7,
   "id": "d04aea93-8c82-48d5-9194-b5821c0c469a",
   "metadata": {},
   "outputs": [],
   "source": [
    "missing_values = User_details.isnull().sum()"
   ]
  },
  {
   "cell_type": "code",
   "execution_count": 8,
   "id": "af9dc92e-eec2-4b1c-a43c-04ac6aee1d72",
   "metadata": {},
   "outputs": [
    {
     "data": {
      "text/plain": [
       "User ID              0\n",
       "User Name            0\n",
       "Age                  0\n",
       "Location             0\n",
       "Registration Date    0\n",
       "Phone                0\n",
       "Email                0\n",
       "Favorite Meal        0\n",
       "Total Orders         0\n",
       "dtype: int64"
      ]
     },
     "execution_count": 8,
     "metadata": {},
     "output_type": "execute_result"
    }
   ],
   "source": [
    "missing_values"
   ]
  },
  {
   "cell_type": "code",
   "execution_count": 9,
   "id": "5ea9548b-7951-43fc-b62c-23be35728e95",
   "metadata": {},
   "outputs": [],
   "source": [
    "User_details['Registration Date'] = pd.to_datetime(User_details['Registration Date'], format='%d-%m-%Y')"
   ]
  },
  {
   "cell_type": "code",
   "execution_count": 10,
   "id": "72b4caa5-bc1c-48a6-97f1-d2b3c7880a0e",
   "metadata": {},
   "outputs": [
    {
     "name": "stdout",
     "output_type": "stream",
     "text": [
      "<class 'pandas.core.frame.DataFrame'>\n",
      "RangeIndex: 10 entries, 0 to 9\n",
      "Data columns (total 9 columns):\n",
      " #   Column             Non-Null Count  Dtype         \n",
      "---  ------             --------------  -----         \n",
      " 0   User ID            10 non-null     object        \n",
      " 1   User Name          10 non-null     object        \n",
      " 2   Age                10 non-null     int64         \n",
      " 3   Location           10 non-null     object        \n",
      " 4   Registration Date  10 non-null     datetime64[ns]\n",
      " 5   Phone              10 non-null     object        \n",
      " 6   Email              10 non-null     object        \n",
      " 7   Favorite Meal      10 non-null     object        \n",
      " 8   Total Orders       10 non-null     int64         \n",
      "dtypes: datetime64[ns](1), int64(2), object(6)\n",
      "memory usage: 852.0+ bytes\n"
     ]
    }
   ],
   "source": [
    "User_details.info()"
   ]
  },
  {
   "cell_type": "code",
   "execution_count": 11,
   "id": "f5504a11-2d7a-47ea-bb99-9f6033fbc77d",
   "metadata": {},
   "outputs": [
    {
     "data": {
      "text/plain": [
       "Index(['Session ID', 'User ID', 'Dish Name', 'Meal Type', 'Session Start',\n",
       "       'Session End', 'Duration (mins)', 'Session Rating'],\n",
       "      dtype='object')"
      ]
     },
     "execution_count": 11,
     "metadata": {},
     "output_type": "execute_result"
    }
   ],
   "source": [
    "Cooking_sessions.columns"
   ]
  },
  {
   "cell_type": "code",
   "execution_count": 12,
   "id": "51a0c9c0-aad2-4732-b87a-c87f20633147",
   "metadata": {},
   "outputs": [
    {
     "data": {
      "text/html": [
       "<div>\n",
       "<style scoped>\n",
       "    .dataframe tbody tr th:only-of-type {\n",
       "        vertical-align: middle;\n",
       "    }\n",
       "\n",
       "    .dataframe tbody tr th {\n",
       "        vertical-align: top;\n",
       "    }\n",
       "\n",
       "    .dataframe thead th {\n",
       "        text-align: right;\n",
       "    }\n",
       "</style>\n",
       "<table border=\"1\" class=\"dataframe\">\n",
       "  <thead>\n",
       "    <tr style=\"text-align: right;\">\n",
       "      <th></th>\n",
       "      <th>Session ID</th>\n",
       "      <th>User ID</th>\n",
       "      <th>Dish Name</th>\n",
       "      <th>Meal Type</th>\n",
       "      <th>Session Start</th>\n",
       "      <th>Session End</th>\n",
       "      <th>Duration (mins)</th>\n",
       "      <th>Session Rating</th>\n",
       "    </tr>\n",
       "  </thead>\n",
       "  <tbody>\n",
       "    <tr>\n",
       "      <th>0</th>\n",
       "      <td>S001</td>\n",
       "      <td>U001</td>\n",
       "      <td>Spaghetti</td>\n",
       "      <td>Dinner</td>\n",
       "      <td>2024-12-01 19:00</td>\n",
       "      <td>2024-12-01 19:30</td>\n",
       "      <td>30</td>\n",
       "      <td>4.5</td>\n",
       "    </tr>\n",
       "    <tr>\n",
       "      <th>1</th>\n",
       "      <td>S002</td>\n",
       "      <td>U002</td>\n",
       "      <td>Caesar Salad</td>\n",
       "      <td>Lunch</td>\n",
       "      <td>2024-12-01 12:00</td>\n",
       "      <td>2024-12-01 12:20</td>\n",
       "      <td>20</td>\n",
       "      <td>4.0</td>\n",
       "    </tr>\n",
       "    <tr>\n",
       "      <th>2</th>\n",
       "      <td>S003</td>\n",
       "      <td>U003</td>\n",
       "      <td>Grilled Chicken</td>\n",
       "      <td>Dinner</td>\n",
       "      <td>2024-12-02 19:30</td>\n",
       "      <td>2024-12-02 20:10</td>\n",
       "      <td>40</td>\n",
       "      <td>4.8</td>\n",
       "    </tr>\n",
       "    <tr>\n",
       "      <th>3</th>\n",
       "      <td>S004</td>\n",
       "      <td>U001</td>\n",
       "      <td>Pancakes</td>\n",
       "      <td>Breakfast</td>\n",
       "      <td>2024-12-02 07:30</td>\n",
       "      <td>2024-12-02 08:00</td>\n",
       "      <td>30</td>\n",
       "      <td>4.2</td>\n",
       "    </tr>\n",
       "    <tr>\n",
       "      <th>4</th>\n",
       "      <td>S005</td>\n",
       "      <td>U004</td>\n",
       "      <td>Caesar Salad</td>\n",
       "      <td>Lunch</td>\n",
       "      <td>2024-12-03 13:00</td>\n",
       "      <td>2024-12-03 13:15</td>\n",
       "      <td>15</td>\n",
       "      <td>4.7</td>\n",
       "    </tr>\n",
       "  </tbody>\n",
       "</table>\n",
       "</div>"
      ],
      "text/plain": [
       "  Session ID User ID        Dish Name  Meal Type     Session Start  \\\n",
       "0       S001    U001        Spaghetti     Dinner  2024-12-01 19:00   \n",
       "1       S002    U002     Caesar Salad      Lunch  2024-12-01 12:00   \n",
       "2       S003    U003  Grilled Chicken     Dinner  2024-12-02 19:30   \n",
       "3       S004    U001         Pancakes  Breakfast  2024-12-02 07:30   \n",
       "4       S005    U004     Caesar Salad      Lunch  2024-12-03 13:00   \n",
       "\n",
       "        Session End  Duration (mins)  Session Rating  \n",
       "0  2024-12-01 19:30               30             4.5  \n",
       "1  2024-12-01 12:20               20             4.0  \n",
       "2  2024-12-02 20:10               40             4.8  \n",
       "3  2024-12-02 08:00               30             4.2  \n",
       "4  2024-12-03 13:15               15             4.7  "
      ]
     },
     "execution_count": 12,
     "metadata": {},
     "output_type": "execute_result"
    }
   ],
   "source": [
    "Cooking_sessions.drop_duplicates().head()"
   ]
  },
  {
   "cell_type": "code",
   "execution_count": 13,
   "id": "b1360dc0-862d-4608-99b9-08779c52aa1c",
   "metadata": {},
   "outputs": [],
   "source": [
    "Cooking_sessions['Session Start'] = pd.to_datetime(Cooking_sessions['Session Start'])\n",
    "Cooking_sessions['Session End'] = pd.to_datetime(Cooking_sessions['Session End'])"
   ]
  },
  {
   "cell_type": "markdown",
   "id": "e19c43ce-7f13-41cf-addc-36f5136cd9aa",
   "metadata": {},
   "source": [
    "<b>Validating Data Integrity,\n",
    "Ensuring 'Session End' is after 'Session Start' in CookingSessions.<b>"
   ]
  },
  {
   "cell_type": "code",
   "execution_count": 14,
   "id": "1f517201-1ccd-4b5c-810f-fd2b24b6bc4b",
   "metadata": {},
   "outputs": [],
   "source": [
    "Cooking_sessions = Cooking_sessions[Cooking_sessions['Session End'] > Cooking_sessions['Session Start']]"
   ]
  },
  {
   "cell_type": "code",
   "execution_count": 15,
   "id": "80f3231c-e747-4e39-afe6-ef039a20ef5e",
   "metadata": {},
   "outputs": [
    {
     "name": "stdout",
     "output_type": "stream",
     "text": [
      "<class 'pandas.core.frame.DataFrame'>\n",
      "RangeIndex: 16 entries, 0 to 15\n",
      "Data columns (total 8 columns):\n",
      " #   Column           Non-Null Count  Dtype         \n",
      "---  ------           --------------  -----         \n",
      " 0   Session ID       16 non-null     object        \n",
      " 1   User ID          16 non-null     object        \n",
      " 2   Dish Name        16 non-null     object        \n",
      " 3   Meal Type        16 non-null     object        \n",
      " 4   Session Start    16 non-null     datetime64[ns]\n",
      " 5   Session End      16 non-null     datetime64[ns]\n",
      " 6   Duration (mins)  16 non-null     int64         \n",
      " 7   Session Rating   16 non-null     float64       \n",
      "dtypes: datetime64[ns](2), float64(1), int64(1), object(4)\n",
      "memory usage: 1.1+ KB\n"
     ]
    }
   ],
   "source": [
    "Cooking_sessions.info()"
   ]
  },
  {
   "cell_type": "code",
   "execution_count": 16,
   "id": "f7630f2c-7160-4762-911f-03de1748b8a4",
   "metadata": {},
   "outputs": [
    {
     "data": {
      "text/plain": [
       "Index(['Order ID', 'User ID', 'Order Date', 'Meal Type', 'Dish Name',\n",
       "       'Order Status', 'Amount (USD)', 'Time of Day', 'Rating', 'Session ID'],\n",
       "      dtype='object')"
      ]
     },
     "execution_count": 16,
     "metadata": {},
     "output_type": "execute_result"
    }
   ],
   "source": [
    "Order_details.columns"
   ]
  },
  {
   "cell_type": "code",
   "execution_count": 17,
   "id": "c1db97ed-0a03-41db-b17f-62ef95d70a5c",
   "metadata": {},
   "outputs": [
    {
     "data": {
      "text/html": [
       "<div>\n",
       "<style scoped>\n",
       "    .dataframe tbody tr th:only-of-type {\n",
       "        vertical-align: middle;\n",
       "    }\n",
       "\n",
       "    .dataframe tbody tr th {\n",
       "        vertical-align: top;\n",
       "    }\n",
       "\n",
       "    .dataframe thead th {\n",
       "        text-align: right;\n",
       "    }\n",
       "</style>\n",
       "<table border=\"1\" class=\"dataframe\">\n",
       "  <thead>\n",
       "    <tr style=\"text-align: right;\">\n",
       "      <th></th>\n",
       "      <th>Order ID</th>\n",
       "      <th>User ID</th>\n",
       "      <th>Order Date</th>\n",
       "      <th>Meal Type</th>\n",
       "      <th>Dish Name</th>\n",
       "      <th>Order Status</th>\n",
       "      <th>Amount (USD)</th>\n",
       "      <th>Time of Day</th>\n",
       "      <th>Rating</th>\n",
       "      <th>Session ID</th>\n",
       "    </tr>\n",
       "  </thead>\n",
       "  <tbody>\n",
       "    <tr>\n",
       "      <th>0</th>\n",
       "      <td>1001</td>\n",
       "      <td>U001</td>\n",
       "      <td>2024-12-01</td>\n",
       "      <td>Dinner</td>\n",
       "      <td>Spaghetti</td>\n",
       "      <td>Completed</td>\n",
       "      <td>15.0</td>\n",
       "      <td>Night</td>\n",
       "      <td>5.0</td>\n",
       "      <td>S001</td>\n",
       "    </tr>\n",
       "    <tr>\n",
       "      <th>1</th>\n",
       "      <td>1002</td>\n",
       "      <td>U002</td>\n",
       "      <td>2024-12-01</td>\n",
       "      <td>Lunch</td>\n",
       "      <td>Caesar Salad</td>\n",
       "      <td>Completed</td>\n",
       "      <td>10.0</td>\n",
       "      <td>Day</td>\n",
       "      <td>4.0</td>\n",
       "      <td>S002</td>\n",
       "    </tr>\n",
       "    <tr>\n",
       "      <th>2</th>\n",
       "      <td>1003</td>\n",
       "      <td>U003</td>\n",
       "      <td>2024-12-02</td>\n",
       "      <td>Dinner</td>\n",
       "      <td>Grilled Chicken</td>\n",
       "      <td>Canceled</td>\n",
       "      <td>12.5</td>\n",
       "      <td>Night</td>\n",
       "      <td>NaN</td>\n",
       "      <td>S003</td>\n",
       "    </tr>\n",
       "    <tr>\n",
       "      <th>3</th>\n",
       "      <td>1004</td>\n",
       "      <td>U001</td>\n",
       "      <td>2024-12-02</td>\n",
       "      <td>Breakfast</td>\n",
       "      <td>Pancakes</td>\n",
       "      <td>Completed</td>\n",
       "      <td>8.0</td>\n",
       "      <td>Morning</td>\n",
       "      <td>4.0</td>\n",
       "      <td>S004</td>\n",
       "    </tr>\n",
       "    <tr>\n",
       "      <th>4</th>\n",
       "      <td>1005</td>\n",
       "      <td>U004</td>\n",
       "      <td>2024-12-03</td>\n",
       "      <td>Lunch</td>\n",
       "      <td>Caesar Salad</td>\n",
       "      <td>Completed</td>\n",
       "      <td>9.0</td>\n",
       "      <td>Day</td>\n",
       "      <td>4.0</td>\n",
       "      <td>S005</td>\n",
       "    </tr>\n",
       "  </tbody>\n",
       "</table>\n",
       "</div>"
      ],
      "text/plain": [
       "   Order ID User ID  Order Date  Meal Type        Dish Name Order Status  \\\n",
       "0      1001    U001  2024-12-01     Dinner        Spaghetti    Completed   \n",
       "1      1002    U002  2024-12-01      Lunch     Caesar Salad    Completed   \n",
       "2      1003    U003  2024-12-02     Dinner  Grilled Chicken     Canceled   \n",
       "3      1004    U001  2024-12-02  Breakfast         Pancakes    Completed   \n",
       "4      1005    U004  2024-12-03      Lunch     Caesar Salad    Completed   \n",
       "\n",
       "   Amount (USD) Time of Day  Rating Session ID  \n",
       "0          15.0       Night     5.0       S001  \n",
       "1          10.0         Day     4.0       S002  \n",
       "2          12.5       Night     NaN       S003  \n",
       "3           8.0     Morning     4.0       S004  \n",
       "4           9.0         Day     4.0       S005  "
      ]
     },
     "execution_count": 17,
     "metadata": {},
     "output_type": "execute_result"
    }
   ],
   "source": [
    "Order_details.drop_duplicates().head()"
   ]
  },
  {
   "cell_type": "code",
   "execution_count": 18,
   "id": "abd9589a-8ed8-4a5c-9e88-bad681ee40bd",
   "metadata": {},
   "outputs": [],
   "source": [
    "# Convert Amount (USD) in OrderDetails to float\n",
    "Order_details['Amount (USD)'] = pd.to_numeric(Order_details['Amount (USD)'], errors='coerce')\n",
    "#convert Order Date in OrderDetails to datetime format\n",
    "Order_details['Order Date'] = pd.to_datetime(Order_details['Order Date'])"
   ]
  },
  {
   "cell_type": "code",
   "execution_count": 19,
   "id": "2d887344-b0e8-45bf-983c-bc126f5bbf4b",
   "metadata": {},
   "outputs": [
    {
     "data": {
      "text/plain": [
       "0     5.0\n",
       "1     4.0\n",
       "2     4.0\n",
       "3     4.0\n",
       "4     4.0\n",
       "5     4.0\n",
       "6     4.0\n",
       "7     4.0\n",
       "8     5.0\n",
       "9     4.0\n",
       "10    4.0\n",
       "11    4.0\n",
       "12    4.0\n",
       "13    5.0\n",
       "14    5.0\n",
       "15    4.0\n",
       "Name: Rating, dtype: float64"
      ]
     },
     "execution_count": 19,
     "metadata": {},
     "output_type": "execute_result"
    }
   ],
   "source": [
    "# Impute missing Rating with the median value\n",
    "median_rating = Order_details['Rating'].median()\n",
    "Order_details['Rating'].fillna(median_rating, inplace=True)\n",
    "Order_details['Rating']\n"
   ]
  },
  {
   "cell_type": "code",
   "execution_count": 20,
   "id": "64750b28-3894-4d5d-b763-655f791e76c1",
   "metadata": {},
   "outputs": [
    {
     "name": "stdout",
     "output_type": "stream",
     "text": [
      "<class 'pandas.core.frame.DataFrame'>\n",
      "RangeIndex: 16 entries, 0 to 15\n",
      "Data columns (total 10 columns):\n",
      " #   Column        Non-Null Count  Dtype         \n",
      "---  ------        --------------  -----         \n",
      " 0   Order ID      16 non-null     int64         \n",
      " 1   User ID       16 non-null     object        \n",
      " 2   Order Date    16 non-null     datetime64[ns]\n",
      " 3   Meal Type     16 non-null     object        \n",
      " 4   Dish Name     16 non-null     object        \n",
      " 5   Order Status  16 non-null     object        \n",
      " 6   Amount (USD)  16 non-null     float64       \n",
      " 7   Time of Day   16 non-null     object        \n",
      " 8   Rating        16 non-null     float64       \n",
      " 9   Session ID    16 non-null     object        \n",
      "dtypes: datetime64[ns](1), float64(2), int64(1), object(6)\n",
      "memory usage: 1.4+ KB\n"
     ]
    }
   ],
   "source": [
    "Order_details.info()"
   ]
  },
  {
   "cell_type": "markdown",
   "id": "13ece50e-1794-4bef-87d8-53c4e019fb38",
   "metadata": {},
   "source": [
    "<b>Observation<b>\n",
    "1. Ensuring duplicate records are not present in the datasets.\n",
    "2. Converted 'Registration Date' in UserDetails to datetime format.\n",
    "3. Ensured 'Session End' is after 'Session Start' in CookingSessions.\n",
    "4. Converted 'Amount (USD)' in OrderDetails to float data type.\n"
   ]
  },
  {
   "cell_type": "markdown",
   "id": "1fdfd4e8-12aa-454e-9b8d-e42e511cc5b0",
   "metadata": {},
   "source": [
    "<b>Data Merging<b>"
   ]
  },
  {
   "cell_type": "code",
   "execution_count": 21,
   "id": "854b5da2-e31b-46ac-baa9-3deb8ddfb197",
   "metadata": {},
   "outputs": [],
   "source": [
    "# Merge UserDetails with CookingSessions\n",
    "User_sessions = pd.merge(User_details, Cooking_sessions, on='User ID', how='inner')\n",
    "\n",
    "# Merge the result with OrderDetails\n",
    "final_df = pd.merge(User_sessions, Order_details, on=['User ID', 'Session ID'], how='inner')"
   ]
  },
  {
   "cell_type": "code",
   "execution_count": 22,
   "id": "e889acde-05f8-4792-85f4-c06145af14a7",
   "metadata": {},
   "outputs": [
    {
     "data": {
      "text/html": [
       "<div>\n",
       "<style scoped>\n",
       "    .dataframe tbody tr th:only-of-type {\n",
       "        vertical-align: middle;\n",
       "    }\n",
       "\n",
       "    .dataframe tbody tr th {\n",
       "        vertical-align: top;\n",
       "    }\n",
       "\n",
       "    .dataframe thead th {\n",
       "        text-align: right;\n",
       "    }\n",
       "</style>\n",
       "<table border=\"1\" class=\"dataframe\">\n",
       "  <thead>\n",
       "    <tr style=\"text-align: right;\">\n",
       "      <th></th>\n",
       "      <th>User ID</th>\n",
       "      <th>User Name</th>\n",
       "      <th>Age</th>\n",
       "      <th>Location</th>\n",
       "      <th>Registration Date</th>\n",
       "      <th>Phone</th>\n",
       "      <th>Email</th>\n",
       "      <th>Favorite Meal</th>\n",
       "      <th>Total Orders</th>\n",
       "      <th>Session ID</th>\n",
       "      <th>...</th>\n",
       "      <th>Duration (mins)</th>\n",
       "      <th>Session Rating</th>\n",
       "      <th>Order ID</th>\n",
       "      <th>Order Date</th>\n",
       "      <th>Meal Type_y</th>\n",
       "      <th>Dish Name_y</th>\n",
       "      <th>Order Status</th>\n",
       "      <th>Amount (USD)</th>\n",
       "      <th>Time of Day</th>\n",
       "      <th>Rating</th>\n",
       "    </tr>\n",
       "  </thead>\n",
       "  <tbody>\n",
       "    <tr>\n",
       "      <th>0</th>\n",
       "      <td>U001</td>\n",
       "      <td>Alice Johnson</td>\n",
       "      <td>28</td>\n",
       "      <td>New York</td>\n",
       "      <td>2023-01-15</td>\n",
       "      <td>123-456-7890</td>\n",
       "      <td>alice@email.com</td>\n",
       "      <td>Dinner</td>\n",
       "      <td>12</td>\n",
       "      <td>S001</td>\n",
       "      <td>...</td>\n",
       "      <td>30</td>\n",
       "      <td>4.5</td>\n",
       "      <td>1001</td>\n",
       "      <td>2024-12-01</td>\n",
       "      <td>Dinner</td>\n",
       "      <td>Spaghetti</td>\n",
       "      <td>Completed</td>\n",
       "      <td>15.0</td>\n",
       "      <td>Night</td>\n",
       "      <td>5.0</td>\n",
       "    </tr>\n",
       "    <tr>\n",
       "      <th>1</th>\n",
       "      <td>U001</td>\n",
       "      <td>Alice Johnson</td>\n",
       "      <td>28</td>\n",
       "      <td>New York</td>\n",
       "      <td>2023-01-15</td>\n",
       "      <td>123-456-7890</td>\n",
       "      <td>alice@email.com</td>\n",
       "      <td>Dinner</td>\n",
       "      <td>12</td>\n",
       "      <td>S004</td>\n",
       "      <td>...</td>\n",
       "      <td>30</td>\n",
       "      <td>4.2</td>\n",
       "      <td>1004</td>\n",
       "      <td>2024-12-02</td>\n",
       "      <td>Breakfast</td>\n",
       "      <td>Pancakes</td>\n",
       "      <td>Completed</td>\n",
       "      <td>8.0</td>\n",
       "      <td>Morning</td>\n",
       "      <td>4.0</td>\n",
       "    </tr>\n",
       "  </tbody>\n",
       "</table>\n",
       "<p>2 rows × 24 columns</p>\n",
       "</div>"
      ],
      "text/plain": [
       "  User ID      User Name  Age  Location Registration Date         Phone  \\\n",
       "0    U001  Alice Johnson   28  New York        2023-01-15  123-456-7890   \n",
       "1    U001  Alice Johnson   28  New York        2023-01-15  123-456-7890   \n",
       "\n",
       "             Email Favorite Meal  Total Orders Session ID  ...  \\\n",
       "0  alice@email.com        Dinner            12       S001  ...   \n",
       "1  alice@email.com        Dinner            12       S004  ...   \n",
       "\n",
       "  Duration (mins) Session Rating Order ID Order Date  Meal Type_y  \\\n",
       "0              30            4.5     1001 2024-12-01       Dinner   \n",
       "1              30            4.2     1004 2024-12-02    Breakfast   \n",
       "\n",
       "   Dish Name_y  Order Status Amount (USD) Time of Day Rating  \n",
       "0    Spaghetti     Completed         15.0       Night    5.0  \n",
       "1     Pancakes     Completed          8.0     Morning    4.0  \n",
       "\n",
       "[2 rows x 24 columns]"
      ]
     },
     "execution_count": 22,
     "metadata": {},
     "output_type": "execute_result"
    }
   ],
   "source": [
    "final_df.head(2)"
   ]
  },
  {
   "cell_type": "code",
   "execution_count": 23,
   "id": "b5ba857e-8794-4d9b-b5d3-0f5486684524",
   "metadata": {},
   "outputs": [
    {
     "data": {
      "text/html": [
       "<div>\n",
       "<style scoped>\n",
       "    .dataframe tbody tr th:only-of-type {\n",
       "        vertical-align: middle;\n",
       "    }\n",
       "\n",
       "    .dataframe tbody tr th {\n",
       "        vertical-align: top;\n",
       "    }\n",
       "\n",
       "    .dataframe thead th {\n",
       "        text-align: right;\n",
       "    }\n",
       "</style>\n",
       "<table border=\"1\" class=\"dataframe\">\n",
       "  <thead>\n",
       "    <tr style=\"text-align: right;\">\n",
       "      <th></th>\n",
       "      <th>User ID</th>\n",
       "      <th>User Name</th>\n",
       "      <th>Age</th>\n",
       "      <th>Location</th>\n",
       "      <th>Registration Date</th>\n",
       "      <th>Phone</th>\n",
       "      <th>Email</th>\n",
       "      <th>Favorite Meal</th>\n",
       "      <th>Total Orders</th>\n",
       "      <th>Session ID</th>\n",
       "      <th>...</th>\n",
       "      <th>Duration (mins)</th>\n",
       "      <th>Session Rating</th>\n",
       "      <th>Order ID</th>\n",
       "      <th>Order Date</th>\n",
       "      <th>Meal Type_y</th>\n",
       "      <th>Dish Name_y</th>\n",
       "      <th>Order Status</th>\n",
       "      <th>Amount (USD)</th>\n",
       "      <th>Time of Day</th>\n",
       "      <th>Rating</th>\n",
       "    </tr>\n",
       "  </thead>\n",
       "  <tbody>\n",
       "    <tr>\n",
       "      <th>count</th>\n",
       "      <td>16</td>\n",
       "      <td>16</td>\n",
       "      <td>16.000000</td>\n",
       "      <td>16</td>\n",
       "      <td>16</td>\n",
       "      <td>16</td>\n",
       "      <td>16</td>\n",
       "      <td>16</td>\n",
       "      <td>16.000000</td>\n",
       "      <td>16</td>\n",
       "      <td>...</td>\n",
       "      <td>16.000000</td>\n",
       "      <td>16.000000</td>\n",
       "      <td>16.000000</td>\n",
       "      <td>16</td>\n",
       "      <td>16</td>\n",
       "      <td>16</td>\n",
       "      <td>16</td>\n",
       "      <td>16.000000</td>\n",
       "      <td>16</td>\n",
       "      <td>16.000000</td>\n",
       "    </tr>\n",
       "    <tr>\n",
       "      <th>unique</th>\n",
       "      <td>8</td>\n",
       "      <td>8</td>\n",
       "      <td>NaN</td>\n",
       "      <td>8</td>\n",
       "      <td>NaN</td>\n",
       "      <td>8</td>\n",
       "      <td>8</td>\n",
       "      <td>3</td>\n",
       "      <td>NaN</td>\n",
       "      <td>16</td>\n",
       "      <td>...</td>\n",
       "      <td>NaN</td>\n",
       "      <td>NaN</td>\n",
       "      <td>NaN</td>\n",
       "      <td>NaN</td>\n",
       "      <td>3</td>\n",
       "      <td>6</td>\n",
       "      <td>2</td>\n",
       "      <td>NaN</td>\n",
       "      <td>3</td>\n",
       "      <td>NaN</td>\n",
       "    </tr>\n",
       "    <tr>\n",
       "      <th>top</th>\n",
       "      <td>U001</td>\n",
       "      <td>Alice Johnson</td>\n",
       "      <td>NaN</td>\n",
       "      <td>New York</td>\n",
       "      <td>NaN</td>\n",
       "      <td>123-456-7890</td>\n",
       "      <td>alice@email.com</td>\n",
       "      <td>Dinner</td>\n",
       "      <td>NaN</td>\n",
       "      <td>S001</td>\n",
       "      <td>...</td>\n",
       "      <td>NaN</td>\n",
       "      <td>NaN</td>\n",
       "      <td>NaN</td>\n",
       "      <td>NaN</td>\n",
       "      <td>Dinner</td>\n",
       "      <td>Spaghetti</td>\n",
       "      <td>Completed</td>\n",
       "      <td>NaN</td>\n",
       "      <td>Night</td>\n",
       "      <td>NaN</td>\n",
       "    </tr>\n",
       "    <tr>\n",
       "      <th>freq</th>\n",
       "      <td>3</td>\n",
       "      <td>3</td>\n",
       "      <td>NaN</td>\n",
       "      <td>3</td>\n",
       "      <td>NaN</td>\n",
       "      <td>3</td>\n",
       "      <td>3</td>\n",
       "      <td>7</td>\n",
       "      <td>NaN</td>\n",
       "      <td>1</td>\n",
       "      <td>...</td>\n",
       "      <td>NaN</td>\n",
       "      <td>NaN</td>\n",
       "      <td>NaN</td>\n",
       "      <td>NaN</td>\n",
       "      <td>8</td>\n",
       "      <td>4</td>\n",
       "      <td>14</td>\n",
       "      <td>NaN</td>\n",
       "      <td>8</td>\n",
       "      <td>NaN</td>\n",
       "    </tr>\n",
       "    <tr>\n",
       "      <th>mean</th>\n",
       "      <td>NaN</td>\n",
       "      <td>NaN</td>\n",
       "      <td>32.687500</td>\n",
       "      <td>NaN</td>\n",
       "      <td>2023-03-31 16:30:00</td>\n",
       "      <td>NaN</td>\n",
       "      <td>NaN</td>\n",
       "      <td>NaN</td>\n",
       "      <td>10.562500</td>\n",
       "      <td>NaN</td>\n",
       "      <td>...</td>\n",
       "      <td>30.312500</td>\n",
       "      <td>4.518750</td>\n",
       "      <td>1008.500000</td>\n",
       "      <td>2024-12-04 12:00:00</td>\n",
       "      <td>NaN</td>\n",
       "      <td>NaN</td>\n",
       "      <td>NaN</td>\n",
       "      <td>11.250000</td>\n",
       "      <td>NaN</td>\n",
       "      <td>4.250000</td>\n",
       "    </tr>\n",
       "    <tr>\n",
       "      <th>min</th>\n",
       "      <td>NaN</td>\n",
       "      <td>NaN</td>\n",
       "      <td>25.000000</td>\n",
       "      <td>NaN</td>\n",
       "      <td>2023-01-15 00:00:00</td>\n",
       "      <td>NaN</td>\n",
       "      <td>NaN</td>\n",
       "      <td>NaN</td>\n",
       "      <td>5.000000</td>\n",
       "      <td>NaN</td>\n",
       "      <td>...</td>\n",
       "      <td>10.000000</td>\n",
       "      <td>4.000000</td>\n",
       "      <td>1001.000000</td>\n",
       "      <td>2024-12-01 00:00:00</td>\n",
       "      <td>NaN</td>\n",
       "      <td>NaN</td>\n",
       "      <td>NaN</td>\n",
       "      <td>7.000000</td>\n",
       "      <td>NaN</td>\n",
       "      <td>4.000000</td>\n",
       "    </tr>\n",
       "    <tr>\n",
       "      <th>25%</th>\n",
       "      <td>NaN</td>\n",
       "      <td>NaN</td>\n",
       "      <td>28.000000</td>\n",
       "      <td>NaN</td>\n",
       "      <td>2023-02-20 00:00:00</td>\n",
       "      <td>NaN</td>\n",
       "      <td>NaN</td>\n",
       "      <td>NaN</td>\n",
       "      <td>8.000000</td>\n",
       "      <td>NaN</td>\n",
       "      <td>...</td>\n",
       "      <td>20.000000</td>\n",
       "      <td>4.300000</td>\n",
       "      <td>1004.750000</td>\n",
       "      <td>2024-12-02 18:00:00</td>\n",
       "      <td>NaN</td>\n",
       "      <td>NaN</td>\n",
       "      <td>NaN</td>\n",
       "      <td>9.000000</td>\n",
       "      <td>NaN</td>\n",
       "      <td>4.000000</td>\n",
       "    </tr>\n",
       "    <tr>\n",
       "      <th>50%</th>\n",
       "      <td>NaN</td>\n",
       "      <td>NaN</td>\n",
       "      <td>30.500000</td>\n",
       "      <td>NaN</td>\n",
       "      <td>2023-03-10 00:00:00</td>\n",
       "      <td>NaN</td>\n",
       "      <td>NaN</td>\n",
       "      <td>NaN</td>\n",
       "      <td>10.000000</td>\n",
       "      <td>NaN</td>\n",
       "      <td>...</td>\n",
       "      <td>30.000000</td>\n",
       "      <td>4.550000</td>\n",
       "      <td>1008.500000</td>\n",
       "      <td>2024-12-04 12:00:00</td>\n",
       "      <td>NaN</td>\n",
       "      <td>NaN</td>\n",
       "      <td>NaN</td>\n",
       "      <td>11.500000</td>\n",
       "      <td>NaN</td>\n",
       "      <td>4.000000</td>\n",
       "    </tr>\n",
       "    <tr>\n",
       "      <th>75%</th>\n",
       "      <td>NaN</td>\n",
       "      <td>NaN</td>\n",
       "      <td>35.750000</td>\n",
       "      <td>NaN</td>\n",
       "      <td>2023-05-22 00:00:00</td>\n",
       "      <td>NaN</td>\n",
       "      <td>NaN</td>\n",
       "      <td>NaN</td>\n",
       "      <td>12.500000</td>\n",
       "      <td>NaN</td>\n",
       "      <td>...</td>\n",
       "      <td>40.000000</td>\n",
       "      <td>4.725000</td>\n",
       "      <td>1012.250000</td>\n",
       "      <td>2024-12-06 06:00:00</td>\n",
       "      <td>NaN</td>\n",
       "      <td>NaN</td>\n",
       "      <td>NaN</td>\n",
       "      <td>13.125000</td>\n",
       "      <td>NaN</td>\n",
       "      <td>4.250000</td>\n",
       "    </tr>\n",
       "    <tr>\n",
       "      <th>max</th>\n",
       "      <td>NaN</td>\n",
       "      <td>NaN</td>\n",
       "      <td>42.000000</td>\n",
       "      <td>NaN</td>\n",
       "      <td>2023-08-11 00:00:00</td>\n",
       "      <td>NaN</td>\n",
       "      <td>NaN</td>\n",
       "      <td>NaN</td>\n",
       "      <td>15.000000</td>\n",
       "      <td>NaN</td>\n",
       "      <td>...</td>\n",
       "      <td>45.000000</td>\n",
       "      <td>5.000000</td>\n",
       "      <td>1016.000000</td>\n",
       "      <td>2024-12-08 00:00:00</td>\n",
       "      <td>NaN</td>\n",
       "      <td>NaN</td>\n",
       "      <td>NaN</td>\n",
       "      <td>15.000000</td>\n",
       "      <td>NaN</td>\n",
       "      <td>5.000000</td>\n",
       "    </tr>\n",
       "    <tr>\n",
       "      <th>std</th>\n",
       "      <td>NaN</td>\n",
       "      <td>NaN</td>\n",
       "      <td>5.839164</td>\n",
       "      <td>NaN</td>\n",
       "      <td>NaN</td>\n",
       "      <td>NaN</td>\n",
       "      <td>NaN</td>\n",
       "      <td>NaN</td>\n",
       "      <td>3.119161</td>\n",
       "      <td>NaN</td>\n",
       "      <td>...</td>\n",
       "      <td>10.873324</td>\n",
       "      <td>0.292617</td>\n",
       "      <td>4.760952</td>\n",
       "      <td>NaN</td>\n",
       "      <td>NaN</td>\n",
       "      <td>NaN</td>\n",
       "      <td>NaN</td>\n",
       "      <td>2.435843</td>\n",
       "      <td>NaN</td>\n",
       "      <td>0.447214</td>\n",
       "    </tr>\n",
       "  </tbody>\n",
       "</table>\n",
       "<p>11 rows × 24 columns</p>\n",
       "</div>"
      ],
      "text/plain": [
       "       User ID      User Name        Age  Location    Registration Date  \\\n",
       "count       16             16  16.000000        16                   16   \n",
       "unique       8              8        NaN         8                  NaN   \n",
       "top       U001  Alice Johnson        NaN  New York                  NaN   \n",
       "freq         3              3        NaN         3                  NaN   \n",
       "mean       NaN            NaN  32.687500       NaN  2023-03-31 16:30:00   \n",
       "min        NaN            NaN  25.000000       NaN  2023-01-15 00:00:00   \n",
       "25%        NaN            NaN  28.000000       NaN  2023-02-20 00:00:00   \n",
       "50%        NaN            NaN  30.500000       NaN  2023-03-10 00:00:00   \n",
       "75%        NaN            NaN  35.750000       NaN  2023-05-22 00:00:00   \n",
       "max        NaN            NaN  42.000000       NaN  2023-08-11 00:00:00   \n",
       "std        NaN            NaN   5.839164       NaN                  NaN   \n",
       "\n",
       "               Phone            Email Favorite Meal  Total Orders Session ID  \\\n",
       "count             16               16            16     16.000000         16   \n",
       "unique             8                8             3           NaN         16   \n",
       "top     123-456-7890  alice@email.com        Dinner           NaN       S001   \n",
       "freq               3                3             7           NaN          1   \n",
       "mean             NaN              NaN           NaN     10.562500        NaN   \n",
       "min              NaN              NaN           NaN      5.000000        NaN   \n",
       "25%              NaN              NaN           NaN      8.000000        NaN   \n",
       "50%              NaN              NaN           NaN     10.000000        NaN   \n",
       "75%              NaN              NaN           NaN     12.500000        NaN   \n",
       "max              NaN              NaN           NaN     15.000000        NaN   \n",
       "std              NaN              NaN           NaN      3.119161        NaN   \n",
       "\n",
       "        ... Duration (mins) Session Rating     Order ID           Order Date  \\\n",
       "count   ...       16.000000      16.000000    16.000000                   16   \n",
       "unique  ...             NaN            NaN          NaN                  NaN   \n",
       "top     ...             NaN            NaN          NaN                  NaN   \n",
       "freq    ...             NaN            NaN          NaN                  NaN   \n",
       "mean    ...       30.312500       4.518750  1008.500000  2024-12-04 12:00:00   \n",
       "min     ...       10.000000       4.000000  1001.000000  2024-12-01 00:00:00   \n",
       "25%     ...       20.000000       4.300000  1004.750000  2024-12-02 18:00:00   \n",
       "50%     ...       30.000000       4.550000  1008.500000  2024-12-04 12:00:00   \n",
       "75%     ...       40.000000       4.725000  1012.250000  2024-12-06 06:00:00   \n",
       "max     ...       45.000000       5.000000  1016.000000  2024-12-08 00:00:00   \n",
       "std     ...       10.873324       0.292617     4.760952                  NaN   \n",
       "\n",
       "        Meal Type_y  Dish Name_y  Order Status Amount (USD) Time of Day  \\\n",
       "count            16           16            16    16.000000          16   \n",
       "unique            3            6             2          NaN           3   \n",
       "top          Dinner    Spaghetti     Completed          NaN       Night   \n",
       "freq              8            4            14          NaN           8   \n",
       "mean            NaN          NaN           NaN    11.250000         NaN   \n",
       "min             NaN          NaN           NaN     7.000000         NaN   \n",
       "25%             NaN          NaN           NaN     9.000000         NaN   \n",
       "50%             NaN          NaN           NaN    11.500000         NaN   \n",
       "75%             NaN          NaN           NaN    13.125000         NaN   \n",
       "max             NaN          NaN           NaN    15.000000         NaN   \n",
       "std             NaN          NaN           NaN     2.435843         NaN   \n",
       "\n",
       "           Rating  \n",
       "count   16.000000  \n",
       "unique        NaN  \n",
       "top           NaN  \n",
       "freq          NaN  \n",
       "mean     4.250000  \n",
       "min      4.000000  \n",
       "25%      4.000000  \n",
       "50%      4.000000  \n",
       "75%      4.250000  \n",
       "max      5.000000  \n",
       "std      0.447214  \n",
       "\n",
       "[11 rows x 24 columns]"
      ]
     },
     "execution_count": 23,
     "metadata": {},
     "output_type": "execute_result"
    }
   ],
   "source": [
    "final_df.describe(include='all')"
   ]
  },
  {
   "cell_type": "code",
   "execution_count": 24,
   "id": "de4b58ce-436c-4d28-ad1f-1527c13544e1",
   "metadata": {},
   "outputs": [
    {
     "data": {
      "text/plain": [
       "Index(['User ID', 'User Name', 'Age', 'Location', 'Registration Date', 'Phone',\n",
       "       'Email', 'Favorite Meal', 'Total Orders', 'Session ID', 'Dish Name_x',\n",
       "       'Meal Type_x', 'Session Start', 'Session End', 'Duration (mins)',\n",
       "       'Session Rating', 'Order ID', 'Order Date', 'Meal Type_y',\n",
       "       'Dish Name_y', 'Order Status', 'Amount (USD)', 'Time of Day', 'Rating'],\n",
       "      dtype='object')"
      ]
     },
     "execution_count": 24,
     "metadata": {},
     "output_type": "execute_result"
    }
   ],
   "source": [
    "final_df.columns"
   ]
  },
  {
   "cell_type": "markdown",
   "id": "3abf55c5-6653-4a32-a469-401a6b592b8a",
   "metadata": {},
   "source": [
    "<b>Identify the most frequently cooked and ordered dishes<b>"
   ]
  },
  {
   "cell_type": "code",
   "execution_count": 25,
   "id": "a9b42d59-a52b-430a-8f3c-9f338127fcc9",
   "metadata": {},
   "outputs": [
    {
     "name": "stdout",
     "output_type": "stream",
     "text": [
      "Dish Name_x\n",
      "Spaghetti          4\n",
      "Grilled Chicken    4\n",
      "Caesar Salad       3\n",
      "Pancakes           2\n",
      "Veggie Burger      2\n",
      "Oatmeal            1\n",
      "Name: count, dtype: int64\n"
     ]
    }
   ],
   "source": [
    "popular_dishes = print(final_df['Dish Name_x'].value_counts())"
   ]
  },
  {
   "cell_type": "markdown",
   "id": "4d3c5d7d-8c74-43c9-9a79-781abf544dd9",
   "metadata": {},
   "source": [
    "<b>Correlation between session rating and amount<b>"
   ]
  },
  {
   "cell_type": "code",
   "execution_count": 26,
   "id": "eae472c7-5b9c-426a-ae04-267d10a1e3f0",
   "metadata": {},
   "outputs": [
    {
     "data": {
      "text/html": [
       "<div>\n",
       "<style scoped>\n",
       "    .dataframe tbody tr th:only-of-type {\n",
       "        vertical-align: middle;\n",
       "    }\n",
       "\n",
       "    .dataframe tbody tr th {\n",
       "        vertical-align: top;\n",
       "    }\n",
       "\n",
       "    .dataframe thead th {\n",
       "        text-align: right;\n",
       "    }\n",
       "</style>\n",
       "<table border=\"1\" class=\"dataframe\">\n",
       "  <thead>\n",
       "    <tr style=\"text-align: right;\">\n",
       "      <th></th>\n",
       "      <th>Session Rating</th>\n",
       "      <th>Amount (USD)</th>\n",
       "    </tr>\n",
       "  </thead>\n",
       "  <tbody>\n",
       "    <tr>\n",
       "      <th>Session Rating</th>\n",
       "      <td>1.000000</td>\n",
       "      <td>0.502733</td>\n",
       "    </tr>\n",
       "    <tr>\n",
       "      <th>Amount (USD)</th>\n",
       "      <td>0.502733</td>\n",
       "      <td>1.000000</td>\n",
       "    </tr>\n",
       "  </tbody>\n",
       "</table>\n",
       "</div>"
      ],
      "text/plain": [
       "                Session Rating  Amount (USD)\n",
       "Session Rating        1.000000      0.502733\n",
       "Amount (USD)          0.502733      1.000000"
      ]
     },
     "execution_count": 26,
     "metadata": {},
     "output_type": "execute_result"
    }
   ],
   "source": [
    "final_df[['Session Rating', 'Amount (USD)']].corr()"
   ]
  },
  {
   "cell_type": "markdown",
   "id": "5e6f8d38-7f90-4c87-85bf-727b7d530e84",
   "metadata": {},
   "source": [
    "<b>Demographic Insights<b>"
   ]
  },
  {
   "cell_type": "code",
   "execution_count": 27,
   "id": "697f778c-1ba4-4bda-8928-5dbd92103420",
   "metadata": {},
   "outputs": [
    {
     "data": {
      "text/html": [
       "<div>\n",
       "<style scoped>\n",
       "    .dataframe tbody tr th:only-of-type {\n",
       "        vertical-align: middle;\n",
       "    }\n",
       "\n",
       "    .dataframe tbody tr th {\n",
       "        vertical-align: top;\n",
       "    }\n",
       "\n",
       "    .dataframe thead th {\n",
       "        text-align: right;\n",
       "    }\n",
       "</style>\n",
       "<table border=\"1\" class=\"dataframe\">\n",
       "  <thead>\n",
       "    <tr style=\"text-align: right;\">\n",
       "      <th></th>\n",
       "      <th>Age</th>\n",
       "      <th>Total Orders</th>\n",
       "      <th>Duration (mins)</th>\n",
       "      <th>Session Rating</th>\n",
       "      <th>Order ID</th>\n",
       "      <th>Amount (USD)</th>\n",
       "      <th>Rating</th>\n",
       "    </tr>\n",
       "    <tr>\n",
       "      <th>Age</th>\n",
       "      <th></th>\n",
       "      <th></th>\n",
       "      <th></th>\n",
       "      <th></th>\n",
       "      <th></th>\n",
       "      <th></th>\n",
       "      <th></th>\n",
       "    </tr>\n",
       "  </thead>\n",
       "  <tbody>\n",
       "    <tr>\n",
       "      <th>20-30</th>\n",
       "      <td>27.875</td>\n",
       "      <td>10.125</td>\n",
       "      <td>34.375</td>\n",
       "      <td>4.60</td>\n",
       "      <td>1008.125000</td>\n",
       "      <td>11.500000</td>\n",
       "      <td>4.375</td>\n",
       "    </tr>\n",
       "    <tr>\n",
       "      <th>30-40</th>\n",
       "      <td>34.800</td>\n",
       "      <td>8.600</td>\n",
       "      <td>24.000</td>\n",
       "      <td>4.34</td>\n",
       "      <td>1009.800000</td>\n",
       "      <td>11.200000</td>\n",
       "      <td>4.200</td>\n",
       "    </tr>\n",
       "    <tr>\n",
       "      <th>40-50</th>\n",
       "      <td>42.000</td>\n",
       "      <td>15.000</td>\n",
       "      <td>30.000</td>\n",
       "      <td>4.60</td>\n",
       "      <td>1007.333333</td>\n",
       "      <td>10.666667</td>\n",
       "      <td>4.000</td>\n",
       "    </tr>\n",
       "  </tbody>\n",
       "</table>\n",
       "</div>"
      ],
      "text/plain": [
       "          Age  Total Orders  Duration (mins)  Session Rating     Order ID  \\\n",
       "Age                                                                         \n",
       "20-30  27.875        10.125           34.375            4.60  1008.125000   \n",
       "30-40  34.800         8.600           24.000            4.34  1009.800000   \n",
       "40-50  42.000        15.000           30.000            4.60  1007.333333   \n",
       "\n",
       "       Amount (USD)  Rating  \n",
       "Age                          \n",
       "20-30     11.500000   4.375  \n",
       "30-40     11.200000   4.200  \n",
       "40-50     10.666667   4.000  "
      ]
     },
     "execution_count": 27,
     "metadata": {},
     "output_type": "execute_result"
    }
   ],
   "source": [
    "age_groups = pd.cut(final_df['Age'], bins=[20, 30, 40, 50], labels=['20-30', '30-40', '40-50'])\n",
    "demographic_analysis =final_df.groupby(age_groups).mean(numeric_only='True')\n",
    "demographic_analysis"
   ]
  },
  {
   "cell_type": "markdown",
   "id": "27f9127b-0c2b-480d-95f6-3db45277b431",
   "metadata": {},
   "source": [
    "<b>Data Visualization<b>"
   ]
  },
  {
   "cell_type": "code",
   "execution_count": 28,
   "id": "0eeda526-3005-471d-aaac-6c3f79b77dcd",
   "metadata": {},
   "outputs": [],
   "source": [
    "import matplotlib.pyplot as plt\n",
    "import seaborn as sns"
   ]
  },
  {
   "cell_type": "markdown",
   "id": "dc6fb44c-03a7-40b7-b8f1-c5a656b6655e",
   "metadata": {},
   "source": [
    "<b>Display the frequency of popular dishes.<b>"
   ]
  },
  {
   "cell_type": "code",
   "execution_count": 29,
   "id": "e8746072-f517-4dbb-a46c-12897ced183f",
   "metadata": {
    "scrolled": true
   },
   "outputs": [
    {
     "data": {
      "image/png": "[encoded data removed]",
      "text/plain": [
       "<Figure size 1000x600 with 1 Axes>"
      ]
     },
     "metadata": {},
     "output_type": "display_data"
    }
   ],
   "source": [
    "plt.figure(figsize=(10, 6))\n",
    "sns.countplot(y=final_df['Dish Name_y'], order=final_df['Dish Name_y'].value_counts().index)\n",
    "plt.title('Most Frequently Ordered Dishes')\n",
    "plt.xlabel('Number of Orders')\n",
    "plt.ylabel('Dish Name_y')\n",
    "plt.show()\n"
   ]
  },
  {
   "cell_type": "markdown",
   "id": "00af783f-a738-44ed-a30e-158edebaa0c1",
   "metadata": {},
   "source": [
    "<b>Identify the number of users per location.<b>"
   ]
  },
  {
   "cell_type": "code",
   "execution_count": 30,
   "id": "e80650db-7a20-4883-93ae-139f6d0c2dd0",
   "metadata": {},
   "outputs": [
    {
     "data": {
      "image/png": "[encoded data removed]",
      "text/plain": [
       "<Figure size 1000x600 with 1 Axes>"
      ]
     },
     "metadata": {},
     "output_type": "display_data"
    }
   ],
   "source": [
    "plt.figure(figsize=(10, 6))\n",
    "sns.countplot(y=final_df['Location'], order=final_df['Location'].value_counts().index)\n",
    "plt.title('Number of Users per Location')\n",
    "plt.xlabel('Number of Users')\n",
    "plt.ylabel('Location')\n",
    "plt.show()\n"
   ]
  },
  {
   "cell_type": "markdown",
   "id": "1dbe59b3-17aa-458f-a4e2-b481222f5382",
   "metadata": {},
   "source": [
    "<b>Compare the average cooking session duration across different meal types.<b>"
   ]
  },
  {
   "cell_type": "code",
   "execution_count": 31,
   "id": "540f83cb-e9b9-4d81-9057-bf3514f31831",
   "metadata": {},
   "outputs": [
    {
     "data": {
      "image/png": "[encoded data removed]",
      "text/plain": [
       "<Figure size 1000x600 with 1 Axes>"
      ]
     },
     "metadata": {},
     "output_type": "display_data"
    }
   ],
   "source": [
    "plt.figure(figsize=(10, 6))\n",
    "sns.swarmplot(x='Meal Type_y', y='Duration (mins)', data=final_df)\n",
    "plt.title('Individual Cooking Session Durations by Meal Type')\n",
    "plt.xlabel('Meal Type')\n",
    "plt.ylabel('Duration (mins)')\n",
    "plt.show()\n"
   ]
  },
  {
   "cell_type": "markdown",
   "id": "8b1cab95-3739-44b4-ad5a-01069d3b70c6",
   "metadata": {},
   "source": [
    "By leveraging this chart, we can able to identify the potential outliers and clusters"
   ]
  },
  {
   "cell_type": "markdown",
   "id": "0fde77e5-2234-455e-83fd-c69f4f305a4e",
   "metadata": {},
   "source": [
    "<b>Compare the total revenue generated by different meal types.<b>"
   ]
  },
  {
   "cell_type": "code",
   "execution_count": 32,
   "id": "88ecb483-1427-47a9-b55c-f3ec7046e835",
   "metadata": {},
   "outputs": [
    {
     "data": {
      "image/png": "[encoded data removed]",
      "text/plain": [
       "<Figure size 500x400 with 1 Axes>"
      ]
     },
     "metadata": {},
     "output_type": "display_data"
    }
   ],
   "source": [
    "revenue_by_meal = final_df.groupby('Meal Type_y')['Amount (USD)'].sum().reset_index()\n",
    "\n",
    "plt.figure(figsize=(5, 4))\n",
    "sns.barplot(x='Meal Type_y', y='Amount (USD)', data=revenue_by_meal)\n",
    "plt.title('Total Revenue by Meal Type')\n",
    "plt.xlabel('Meal Type')\n",
    "plt.ylabel('Total Revenue (USD)')\n",
    "plt.show()\n"
   ]
  },
  {
   "cell_type": "markdown",
   "id": "4cdf1526-f4d4-49b0-ab67-93cba1dba389",
   "metadata": {},
   "source": [
    "<b>Identify dishes with higher cancellation rates.<b>"
   ]
  },
  {
   "cell_type": "code",
   "execution_count": 33,
   "id": "b63a5ea0-5741-4769-82bd-2bbc2f4661f0",
   "metadata": {},
   "outputs": [
    {
     "data": {
      "image/png": "[encoded data removed]",
      "text/plain": [
       "<Figure size 1000x600 with 1 Axes>"
      ]
     },
     "metadata": {},
     "output_type": "display_data"
    }
   ],
   "source": [
    "cancellation_rate = final_df[final_df['Order Status'] == 'Canceled']['Dish Name_y'].value_counts() / final_df['Dish Name_y'].value_counts()\n",
    "\n",
    "plt.figure(figsize=(10, 6))\n",
    "cancellation_rate.sort_values(ascending=False).plot(kind='bar')\n",
    "plt.title('Cancellation Rate by Dish')\n",
    "plt.xlabel('Dish Name_y')\n",
    "plt.ylabel('Cancellation Rate')\n",
    "plt.show()"
   ]
  },
  {
   "cell_type": "markdown",
   "id": "4f05845b-38ed-43d1-bf6a-905c481f6a67",
   "metadata": {},
   "source": [
    "<b>Average Order Value by Age Group<b>"
   ]
  },
  {
   "cell_type": "code",
   "execution_count": 34,
   "id": "16d351b7-85c7-4c41-a0d7-50409ce7c303",
   "metadata": {},
   "outputs": [
    {
     "data": {
      "image/png": "[encoded data removed]",
      "text/plain": [
       "<Figure size 1000x400 with 1 Axes>"
      ]
     },
     "metadata": {},
     "output_type": "display_data"
    }
   ],
   "source": [
    "age_groups = pd.cut(final_df['Age'], bins=[20, 30, 40, 50], labels=['20-30', '30-40', '40-50'])\n",
    "avg_order_value_by_age = final_df.groupby(age_groups)['Amount (USD)'].mean().reset_index()\n",
    "\n",
    "plt.figure(figsize=(10, 4))\n",
    "sns.barplot(x=age_groups, y='Amount (USD)', data=avg_order_value_by_age, width=0.3)\n",
    "plt.title('Average Order Value by Age Group')\n",
    "plt.xlabel('Age Group')\n",
    "plt.ylabel('Average Order Value (USD)')\n",
    "plt.show()\n"
   ]
  },
  {
   "cell_type": "markdown",
   "id": "ef3031ef-b0eb-43cd-a3cf-a1ff2cb94aca",
   "metadata": {},
   "source": [
    "<b>Compare the average cooking session duration across different meal types.<b>"
   ]
  },
  {
   "cell_type": "code",
   "execution_count": 35,
   "id": "df836c0e-6766-4fff-b30f-e74e51db3d0c",
   "metadata": {},
   "outputs": [
    {
     "data": {
      "image/png": "[encoded data removed]",
      "text/plain": [
       "<Figure size 1000x600 with 1 Axes>"
      ]
     },
     "metadata": {},
     "output_type": "display_data"
    }
   ],
   "source": [
    "plt.figure(figsize=(10, 6))\n",
    "sns.boxplot(x='Meal Type_y', y='Duration (mins)', data=final_df)\n",
    "plt.title('Cooking Session Duration by Meal Type')\n",
    "plt.xlabel('Meal Type')\n",
    "plt.ylabel('Duration (mins)')\n",
    "plt.show()\n"
   ]
  },
  {
   "cell_type": "markdown",
   "id": "a66e0ba1-cb83-4030-ac18-d05482df4a48",
   "metadata": {},
   "source": [
    "<b>Determine preferred meal types across different age groups.<b>"
   ]
  },
  {
   "cell_type": "code",
   "execution_count": 36,
   "id": "253d97c9-2ff4-476c-a676-a46b83d3509e",
   "metadata": {},
   "outputs": [
    {
     "name": "stdout",
     "output_type": "stream",
     "text": [
      "Favorite Meal  Breakfast  Dinner  Lunch\n",
      "Age                                    \n",
      "20-30                  0       6      2\n",
      "30-40                  1       1      3\n",
      "40-50                  3       0      0\n"
     ]
    }
   ],
   "source": [
    "age_groups = pd.cut(final_df['Age'], bins=[20, 30, 40, 50], labels=['20-30', '30-40', '40-50'])\n",
    "favorite_meal_by_age = final_df.groupby([age_groups, 'Favorite Meal']).size().unstack().fillna(0)\n",
    "print(favorite_meal_by_age)\n"
   ]
  },
  {
   "cell_type": "markdown",
   "id": "76c0c1d1-1254-45ab-8dbc-002d1c147546",
   "metadata": {},
   "source": [
    "<h3>Observations</h3>"
   ]
  },
  {
   "cell_type": "markdown",
   "id": "613f8028-6679-4702-b9b0-10749586f425",
   "metadata": {},
   "source": [
    "<p><b>Meal Preferences:</b>\n",
    "    Breakfast is most popular for younger users (20-30), while older users (40-50) prefer it significantly more than other meals.\n",
    "Dinner is a significant choice for users in the 30-40 range.\n",
    "\n",
    "<b>Order Trends:</b>\n",
    "    The 40-50 age group places the most orders but has a higher average session duration (15 minutes).\n",
    "20-30 years has the highest session rating (4.60) despite a lower number of orders.\n",
    "\n",
    "<b>Spending:</b>\n",
    "    Younger age groups (20-30) spend more on average per order ($11.50) compared to older groups, but ratings are slightly higher in the 20-30 group as well. </p>"
   ]
  },
  {
   "cell_type": "markdown",
   "id": "60671387-d0e0-4197-b082-64113aa3ab03",
   "metadata": {},
   "source": [
    "<h1>Thank you !!<h1>"
   ]
  }
 ],
 "metadata": {
  "kernelspec": {
   "display_name": "Python 3 (ipykernel)",
   "language": "python",
   "name": "python3"
  },
  "language_info": {
   "codemirror_mode": {
    "name": "ipython",
    "version": 3
   },
   "file_extension": ".py",
   "mimetype": "text/x-python",
   "name": "python",
   "nbconvert_exporter": "python",
   "pygments_lexer": "ipython3",
   "version": "3.11.5"
  }
 },
 "nbformat": 4,
 "nbformat_minor": 5
}
